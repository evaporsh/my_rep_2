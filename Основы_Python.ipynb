{
  "nbformat": 4,
  "nbformat_minor": 0,
  "metadata": {
    "colab": {
      "name": "Основы Python.ipynb",
      "provenance": [],
      "authorship_tag": "ABX9TyNhrSM2MYOjBbyJHCMZZeZ1"
    },
    "kernelspec": {
      "name": "python3",
      "display_name": "Python 3"
    },
    "language_info": {
      "name": "python"
    }
  },
  "cells": [
    {
      "cell_type": "markdown",
      "metadata": {
        "id": "WBq_j0C-ByVH"
      },
      "source": [
        "**Задание 1.**\n",
        "Дана переменная, в которой хранится слово из латинских букв. Напишите код, который выводит на экран:\n",
        "\n",
        "* среднюю букву, если число букв в слове нечетное;\n",
        "* две средних буквы, если число букв четное.\n"
      ]
    },
    {
      "cell_type": "code",
      "metadata": {
        "colab": {
          "base_uri": "https://localhost:8080/"
        },
        "id": "IVE58WzLexQl",
        "outputId": "2f142b00-0015-4aa1-e689-8d261e034ebb"
      },
      "source": [
        "word = 'testingmyprogg'\n",
        "len_word = len(word)\n",
        "if len_word%2 == 0:\n",
        "  index_1 = int(len_word/2-1)\n",
        "  index_2 = int(len_word/2)\n",
        "  print(word[index_1],word[index_2])\n",
        "if len_word%2 != 0:\n",
        "  index_3 = int(len_word/2 - 0.5)\n",
        "  print(word[index_3])"
      ],
      "execution_count": null,
      "outputs": [
        {
          "output_type": "stream",
          "text": [
            "g m\n"
          ],
          "name": "stdout"
        }
      ]
    },
    {
      "cell_type": "code",
      "metadata": {
        "colab": {
          "base_uri": "https://localhost:8080/"
        },
        "id": "hnLHbqhSlx6M",
        "outputId": "884ab32d-683d-4a07-8006-434df8733502"
      },
      "source": [
        "word = 'testingmyprogramy'\n",
        "len_word = len(word)\n",
        "if len_word%2 == 0:\n",
        "  index_1 = int(len_word/2-1)\n",
        "  index_2 = int(len_word/2)\n",
        "  print(word[index_1],word[index_2])\n",
        "else:\n",
        "  index_3 = int(len_word/2 - 0.5)\n",
        "  print(word[index_3])"
      ],
      "execution_count": null,
      "outputs": [
        {
          "output_type": "stream",
          "text": [
            "y\n"
          ],
          "name": "stdout"
        }
      ]
    },
    {
      "cell_type": "markdown",
      "metadata": {
        "id": "LybuPmmjCGXB"
      },
      "source": [
        "\n",
        "**Задание 2.**\n",
        "Напишите программу, которая последовательно запрашивает у пользователя числа (по одному за раз) и после первого нуля выводит сумму всех ранее введенных чисел."
      ]
    },
    {
      "cell_type": "code",
      "metadata": {
        "colab": {
          "base_uri": "https://localhost:8080/"
        },
        "id": "k6Phtkc4EXNa",
        "outputId": "82632fb3-09d9-4d70-8653-bff711b48c4c"
      },
      "source": [
        "user_input_second_1 = int(input('Введите первое число: '))\n",
        "result = 0\n",
        "while user_input_second_1 != 0:\n",
        "    result += user_input_second_1\n",
        "    user_input_second_1 = int(input('Введите число: '))\n",
        "print('Результат -', result)"
      ],
      "execution_count": null,
      "outputs": [
        {
          "output_type": "stream",
          "text": [
            "Введите первое число: 1\n",
            "Введите число: 3\n",
            "Введите число: 4\n",
            "Введите число: 0\n",
            "Результат - 8\n"
          ],
          "name": "stdout"
        }
      ]
    },
    {
      "cell_type": "markdown",
      "metadata": {
        "id": "yFsCSkKmCRr5"
      },
      "source": [
        "**Задание 3.**\n",
        "Мы делаем MVP dating-сервиса, и у нас есть список парней и девушек.\n",
        "Выдвигаем гипотезу: лучшие рекомендации мы получим, если просто отсортируем имена по алфавиту и познакомим людей с одинаковыми индексами после сортировки! Но мы не будем никого знакомить, если кто-то может остаться без пары."
      ]
    }
  ]
}