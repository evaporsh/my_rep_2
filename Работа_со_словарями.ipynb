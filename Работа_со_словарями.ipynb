{
  "nbformat": 4,
  "nbformat_minor": 0,
  "metadata": {
    "colab": {
      "name": "Работа со словарями.ipynb",
      "provenance": [],
      "collapsed_sections": [],
      "authorship_tag": "ABX9TyNWa1sV3sLgPSbTAGI9T1GH",
      "include_colab_link": true
    },
    "kernelspec": {
      "name": "python3",
      "display_name": "Python 3"
    },
    "language_info": {
      "name": "python"
    }
  },
  "cells": [
    {
      "cell_type": "markdown",
      "metadata": {
        "id": "view-in-github",
        "colab_type": "text"
      },
      "source": [
        "<a href=\"https://colab.research.google.com/github/evaporsh/my_rep_2/blob/main/%D0%A0%D0%B0%D0%B1%D0%BE%D1%82%D0%B0_%D1%81%D0%BE_%D1%81%D0%BB%D0%BE%D0%B2%D0%B0%D1%80%D1%8F%D0%BC%D0%B8.ipynb\" target=\"_parent\"><img src=\"https://colab.research.google.com/assets/colab-badge.svg\" alt=\"Open In Colab\"/></a>"
      ]
    },
    {
      "cell_type": "markdown",
      "metadata": {
        "id": "qg5a7qK78Uak"
      },
      "source": [
        "**Задание 1**\n",
        "\n",
        "Дана переменная, в которой хранится словарь, содержащий гео-метки для каждого пользователя (пример структуры данных приведен ниже). Вам необходимо написать программу, которая выведет на экран множество уникальных гео-меток всех пользователей."
      ]
    },
    {
      "cell_type": "code",
      "metadata": {
        "colab": {
          "base_uri": "https://localhost:8080/"
        },
        "id": "-W1pPYb81k4a",
        "outputId": "94d1c38e-69ce-40fb-d062-0ce9b13c5dff"
      },
      "source": [
        "ids = {'user1': [213, 213, 213, 15, 213], \n",
        "       'user2': [54, 54, 119, 119, 119], \n",
        "       'user3': [213, 98, 98, 35]}\n",
        "list_of_values = []\n",
        "for values in ids.values():\n",
        "  list_of_values.extend(values)\n",
        "print(set(list_of_values))"
      ],
      "execution_count": null,
      "outputs": [
        {
          "output_type": "stream",
          "text": [
            "{98, 35, 15, 213, 54, 119}\n"
          ],
          "name": "stdout"
        }
      ]
    },
    {
      "cell_type": "markdown",
      "metadata": {
        "id": "fbsb6-6ENs08"
      },
      "source": [
        "**Задание 2**\n",
        "\n",
        "Дана переменная, в которой хранится список поисковых запросов пользователя (пример структуры данных приведен ниже). Вам необходимо написать программу, которая выведет на экран распределение количества слов в запросах в требуемом виде."
      ]
    },
    {
      "cell_type": "code",
      "metadata": {
        "colab": {
          "base_uri": "https://localhost:8080/"
        },
        "id": "CBPrbIvLNsdr",
        "outputId": "37b92a0b-eb0b-40a7-c28b-33dcad0556d9"
      },
      "source": [
        "queries = [\n",
        "    'смотреть сериалы онлайн',\n",
        "    'новости спорта',\n",
        "    'афиша кино',\n",
        "    'курс доллара',\n",
        "    'сериалы этим летом',\n",
        "    'курс по питону',\n",
        "    'сериалы про спорт',\n",
        "]\n",
        "list_2 = []\n",
        "list_3 = []\n",
        "for el in queries:\n",
        "  if len(el.split(' ')) == 2:\n",
        "    list_2.append(el)\n",
        "  if len(el.split(' ')) == 3:\n",
        "    list_3.append(el)\n",
        "per_2 = len(list_2) / len(queries) * 100\n",
        "per_3 = len(list_3) / len(queries) * 100\n",
        "print('Запросов составляющих 2 слова', per_2, '%')\n",
        "print('Запросов составляющих 3 слова', per_3, '%')"
      ],
      "execution_count": null,
      "outputs": [
        {
          "output_type": "stream",
          "text": [
            "Запросов составляющих 2 слова 42.857142857142854 %\n",
            "Запросов составляющих 3 слова 57.14285714285714 %\n"
          ],
          "name": "stdout"
        }
      ]
    },
    {
      "cell_type": "markdown",
      "metadata": {
        "id": "FGQ2_mm6wTA-"
      },
      "source": [
        "\n",
        "**Задание 3**\n",
        "\n",
        "Дана переменная, в которой хранится информация о затратах и доходе рекламных кампаний по различным источникам. Необходимо дополнить исходную структуру показателем ROI, который рассчитаем по формуле: (revenue / cost - 1) * 100\n"
      ]
    },
    {
      "cell_type": "code",
      "metadata": {
        "colab": {
          "base_uri": "https://localhost:8080/"
        },
        "id": "x9k9SAvfAYe_",
        "outputId": "010efeac-4b05-4ec2-ac1f-920731c18f97"
      },
      "source": [
        "results = {\n",
        "    'vk': {'revenue': 103, 'cost': 98},\n",
        "    'yandex': {'revenue': 179, 'cost': 153},\n",
        "    'facebook': {'revenue': 103, 'cost': 110},\n",
        "    'adwords': {'revenue': 35, 'cost': 34},\n",
        "    'twitter': {'revenue': 11, 'cost': 24},\n",
        "}\n",
        "for key in results:\n",
        "  rev = results[key]['revenue']\n",
        "  cost = results[key]['cost']\n",
        "  ROI = (rev / cost - 1) * 100\n",
        "  #print(rev, cost, ROI)\n",
        "  results[key] = {'revenue': rev, 'cost': cost, 'ROI': ROI}\n",
        "print(results)\n",
        "print(type(results))"
      ],
      "execution_count": null,
      "outputs": [
        {
          "output_type": "stream",
          "text": [
            "{'vk': {'revenue': 103, 'cost': 98, 'ROI': 5.102040816326525}, 'yandex': {'revenue': 179, 'cost': 153, 'ROI': 16.99346405228759}, 'facebook': {'revenue': 103, 'cost': 110, 'ROI': -6.36363636363636}, 'adwords': {'revenue': 35, 'cost': 34, 'ROI': 2.941176470588225}, 'twitter': {'revenue': 11, 'cost': 24, 'ROI': -54.16666666666667}}\n",
            "<class 'dict'>\n"
          ],
          "name": "stdout"
        }
      ]
    },
    {
      "cell_type": "markdown",
      "metadata": {
        "id": "koLZ-L2cNRrJ"
      },
      "source": [
        "\n",
        "**Задание 4**\n",
        "\n",
        "Дана переменная, в которой хранится статистика рекламных каналов по объемам продаж (пример структуры данных приведен ниже). Напишите программу, которая возвращает название канала с максимальным объемом продаж."
      ]
    },
    {
      "cell_type": "code",
      "metadata": {
        "colab": {
          "base_uri": "https://localhost:8080/"
        },
        "id": "dvoH1u1H09p0",
        "outputId": "96eaaf7b-94bf-4156-ef95-f99ef2760ee4"
      },
      "source": [
        "stats = {'facebook': 55, 'yandex': 115, 'vk': 120, 'google': 99, 'email': 42, 'ok': 98}\n",
        "list = []\n",
        "for key in stats:\n",
        "  list.append(stats[key])\n",
        "  max_value = max(list)\n",
        "#print(max(list))\n",
        "#print(list)\n",
        "for key in stats:\n",
        "  if stats[key] == max_value:\n",
        "    print('Максимальный объем продаж на рекламном канале:', key)"
      ],
      "execution_count": null,
      "outputs": [
        {
          "output_type": "stream",
          "text": [
            "Максимальный объем продаж на рекламном канале: vk\n"
          ],
          "name": "stdout"
        }
      ]
    }
  ]
}