{
  "nbformat": 4,
  "nbformat_minor": 0,
  "metadata": {
    "colab": {
      "name": "Простейшие задачи (арифметика+условия).ipynb",
      "provenance": [],
      "authorship_tag": "ABX9TyOx3gbfi4GNV2V8Yw99skNv"
    },
    "kernelspec": {
      "name": "python3",
      "display_name": "Python 3"
    },
    "language_info": {
      "name": "python"
    }
  },
  "cells": [
    {
      "cell_type": "code",
      "metadata": {
        "colab": {
          "base_uri": "https://localhost:8080/"
        },
        "id": "oZu1D_3pMNk9",
        "outputId": "cb7cb1f1-ec38-40da-f905-61217dab25ff"
      },
      "source": [
        "user_input = int(input (\"Введите ширину в см\"))\n",
        "user_input_2 = int(input (\"Введите длину в см\"))\n",
        "user_input_3 = int(input (\"Введите высоту в см\"))\n",
        "if user_input < 15 and user_input_2 < 15 and user_input_3 <  15:\n",
        "    print(\"Коробка №1\")\n",
        "elif 15 < user_input < 50 or 15 < user_input_3 < 50 or 15 < user_input_2 < 50:\n",
        "    print(\"Коробка №2\")\n",
        "elif user_input_2 > 200:\n",
        "    print(\"Упаковка для лыж\")\n",
        "else: print(\"Стандартная коробка №3\")\n",
        "print(\"Конец программы\")"
      ],
      "execution_count": null,
      "outputs": [
        {
          "output_type": "stream",
          "text": [
            "Введите ширину в см40\n",
            "Введите длину в см55\n",
            "Введите высоту в см40\n",
            "Коробка №2\n",
            "Конец программы\n"
          ],
          "name": "stdout"
        }
      ]
    },
    {
      "cell_type": "code",
      "metadata": {
        "colab": {
          "base_uri": "https://localhost:8080/"
        },
        "id": "mTi52DWu1mfM",
        "outputId": "188dbc2a-587d-47b6-d107-5e5f921a0c14"
      },
      "source": [
        "user_input = int(input (\"Введите 1-ую цифру Вашего билета\"))\n",
        "user_input_2 = int(input (\"Введите 2-ую цифру Вашего билета\"))\n",
        "user_input_3 = int(input (\"Введите 3-ю цифру Вашего билета\"))\n",
        "user_input_4 = int(input (\"Введите 4-ую цифру Вашего билета\"))\n",
        "user_input_5 = int(input (\"Введите 5-ую цифру Вашего билета\"))\n",
        "user_input_6 = int(input (\"Введите 6-ую цифру Вашего билета\"))\n",
        "if user_input + user_input_2 + user_input_3 == user_input_4 + user_input_5 + user_input_6:\n",
        "  print(\"Счастливый билет\")\n",
        "else :\n",
        "  print(\"Несчастливый билет\")\n"
      ],
      "execution_count": null,
      "outputs": [
        {
          "output_type": "stream",
          "text": [
            "Введите 1-ую цифру Вашего билета1\n",
            "Введите 2-ую цифру Вашего билета2\n",
            "Введите 3-ю цифру Вашего билета3\n",
            "Введите 4-ую цифру Вашего билета3\n",
            "Введите 5-ую цифру Вашего билета2\n",
            "Введите 6-ую цифру Вашего билета1\n",
            "Счастливый билет\n"
          ],
          "name": "stdout"
        }
      ]
    },
    {
      "cell_type": "code",
      "metadata": {
        "id": "OhHeDa0S4q4F"
      },
      "source": [
        "import math\n",
        "p = 3.1415926536\n",
        "user_input = str(input (\"Введите тип фигуры\"))\n",
        "if user_input == \"Круг\" : \n",
        "  user_input_rad=int(input (\"Введите радиус круга\"))\n",
        "  result_krug = user_input_rad**2 * p\n",
        "  print( \"Площадь круга :\", result_krug)\n",
        "if user_input == \"Треугольник\":\n",
        "  user_input_triangl_A = int(input (\"Введите сторону А\")) \n",
        "  user_input_triangl_B = int(input (\"Введите сторону B\"))\n",
        "  user_input_triangl_C = int(input (\"Введите сторону C\"))\n",
        "  halh_of_perimetr = (user_input_triangl_A + user_input_triangl_B + user_input_triangl_C)/2\n",
        "  result_triangl = math.sqrt((halh_of_perimetr*(halh_of_perimetr - user_input_triangl_A)*(halh_of_perimetr - user_input_triangl_B)*(halh_of_perimetr-user_input_triangl_C)))\n",
        "  print( \"Площадь треугольника :\", result_triangl)\n",
        "if user_input == \"Прямоугольник\":\n",
        "  user_input_rectangle_A = int(input (\"Введите сторону А\")) \n",
        "  user_input_rectangle_B = int(input (\"Введите сторону B\"))\n",
        "  result_rectangle = user_input_rectangle_A*user_input_rectangle_B\n",
        "  print( \"Площадь треугольника :\", result_rectangle)\n",
        "  "
      ],
      "execution_count": null,
      "outputs": []
    }
  ]
}